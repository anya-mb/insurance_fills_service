{
 "cells": [
  {
   "cell_type": "code",
   "execution_count": 1,
   "id": "f9a5f0b2",
   "metadata": {},
   "outputs": [],
   "source": [
    "import langchain\n",
    "import openai\n",
    "from dotenv import load_dotenv"
   ]
  },
  {
   "cell_type": "code",
   "execution_count": 2,
   "id": "0af9eeb0",
   "metadata": {},
   "outputs": [
    {
     "data": {
      "text/plain": [
       "True"
      ]
     },
     "execution_count": 2,
     "metadata": {},
     "output_type": "execute_result"
    }
   ],
   "source": [
    "load_dotenv(\"../.env\")"
   ]
  },
  {
   "cell_type": "code",
   "execution_count": 3,
   "id": "84c29c23",
   "metadata": {},
   "outputs": [],
   "source": [
    "import os"
   ]
  },
  {
   "cell_type": "code",
   "execution_count": 4,
   "id": "5ce3b38f",
   "metadata": {},
   "outputs": [],
   "source": [
    "#os.environ[\"OPENAI_API_KEY\"]"
   ]
  },
  {
   "cell_type": "code",
   "execution_count": 5,
   "id": "798552c4",
   "metadata": {},
   "outputs": [
    {
     "data": {
      "text/plain": [
       "AIMessage(content='\"The future belongs to those who believe in the beauty of their dreams.\" - Eleanor Roosevelt', additional_kwargs={}, example=False)"
      ]
     },
     "execution_count": 5,
     "metadata": {},
     "output_type": "execute_result"
    }
   ],
   "source": [
    "from langchain.chat_models import ChatOpenAI\n",
    "from langchain.schema import (\n",
    "    AIMessage,\n",
    "    HumanMessage,\n",
    "    SystemMessage\n",
    ")\n",
    "\n",
    "chat = ChatOpenAI(temperature=0.5)\n",
    "chat.predict_messages([HumanMessage(content=\"Give me a motivational quote\")])"
   ]
  },
  {
   "cell_type": "code",
   "execution_count": 6,
   "id": "75bd25b8",
   "metadata": {},
   "outputs": [],
   "source": [
    "result = chat.predict_messages([HumanMessage(content=\"Give me a motivational quote\")])"
   ]
  },
  {
   "cell_type": "code",
   "execution_count": 7,
   "id": "3ffa2031",
   "metadata": {},
   "outputs": [
    {
     "data": {
      "text/plain": [
       "{'content': '\"The only way to do great work is to love what you do.\" - Steve Jobs',\n",
       " 'additional_kwargs': {},\n",
       " 'example': False}"
      ]
     },
     "execution_count": 7,
     "metadata": {},
     "output_type": "execute_result"
    }
   ],
   "source": [
    "result.__dict__"
   ]
  },
  {
   "cell_type": "code",
   "execution_count": 8,
   "id": "4543e1d9",
   "metadata": {},
   "outputs": [
    {
     "data": {
      "text/plain": [
       "'\"The only way to do great work is to love what you do.\" - Steve Jobs'"
      ]
     },
     "execution_count": 8,
     "metadata": {},
     "output_type": "execute_result"
    }
   ],
   "source": [
    "result.content"
   ]
  },
  {
   "cell_type": "code",
   "execution_count": null,
   "id": "b9971a6b",
   "metadata": {},
   "outputs": [],
   "source": []
  }
 ],
 "metadata": {
  "kernelspec": {
   "display_name": "Python 3 (ipykernel)",
   "language": "python",
   "name": "python3"
  },
  "language_info": {
   "codemirror_mode": {
    "name": "ipython",
    "version": 3
   },
   "file_extension": ".py",
   "mimetype": "text/x-python",
   "name": "python",
   "nbconvert_exporter": "python",
   "pygments_lexer": "ipython3",
   "version": "3.8.8"
  }
 },
 "nbformat": 4,
 "nbformat_minor": 5
}
