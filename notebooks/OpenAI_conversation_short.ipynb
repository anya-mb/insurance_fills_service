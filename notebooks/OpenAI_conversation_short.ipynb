{
 "cells": [
  {
   "cell_type": "code",
   "execution_count": 1,
   "id": "3fdb37e1",
   "metadata": {},
   "outputs": [],
   "source": [
    "import os\n",
    "import json\n",
    "import openai\n",
    "import requests\n",
    "from dotenv import load_dotenv\n",
    "from tenacity import retry, wait_random_exponential, stop_after_attempt\n",
    "\n",
    "\n",
    "GPT_MODEL = \"gpt-4-0613\"\n",
    "\n",
    "load_dotenv(\".env\")\n",
    "openai.api_key = os.environ['OPENAI_API_KEY']\n",
    "\n",
    "@retry(wait=wait_random_exponential(min=1, max=40), stop=stop_after_attempt(3))\n",
    "def chat_completion_request(messages, functions=None, model=GPT_MODEL):\n",
    "    headers = {\n",
    "        \"Content-Type\": \"application/json\",\n",
    "        \"Authorization\": \"Bearer \" + openai.api_key,\n",
    "    }\n",
    "    json_data = {\"model\": model, \"messages\": messages}\n",
    "    if functions is not None:\n",
    "        json_data.update({\"functions\": functions})\n",
    "    try:\n",
    "        response = requests.post(\n",
    "            \"https://api.openai.com/v1/chat/completions\",\n",
    "            headers=headers,\n",
    "            json=json_data,\n",
    "        )\n",
    "        return response\n",
    "    except Exception as e:\n",
    "        print(\"Unable to generate ChatCompletion response\")\n",
    "        print(f\"Exception: {e}\")\n",
    "        return e\n",
    "    \n",
    "class Chat:\n",
    "    def __init__(self):\n",
    "        self.conversation_history = []\n",
    "\n",
    "    def add_prompt(self, role: str, content: str):\n",
    "        message = {\"role\": role, \"content\": content}\n",
    "        self.conversation_history.append(message)\n",
    "        \n",
    "    def add_assistant_prompt(self, content: str):\n",
    "        role = \"assistant\"\n",
    "        self.add_prompt(role, content)\n",
    "        \n",
    "    def add_user_prompt(self, content: str):\n",
    "        role = \"user\"\n",
    "        self.add_prompt(role, content)\n",
    "\n",
    "    def display_conversation(self):\n",
    "        for message in self.conversation_history:\n",
    "            print(\n",
    "                f\"{message['role']}: {message['content']}\\n\\n\",\n",
    "                message[\"role\"],\n",
    "            )\n",
    "    def upload_conversation_history(conversation_history: list)\n",
    "        self.conversation_history = conversation_history\n"
   ]
  },
  {
   "cell_type": "code",
   "execution_count": 2,
   "id": "a4796985",
   "metadata": {},
   "outputs": [],
   "source": [
    "SYSTEM_SETUP_PROMPT = \\\n",
    "    \"\"\"\n",
    "    You are a polite and smart AI assistant that helps people to fill questionire to apply for an insurance.\n",
    "    We need to fill next questions:\n",
    "    1) What is your first name?\n",
    "    2) What is your last name?\n",
    "    3) What is the type of insurance you need?\n",
    "    4) What is your phone number?\n",
    "    5) What is your age?\n",
    "\n",
    "    We expect final response in json format with keys: \"first_name\", \"last_name\", \"age\", \"type_of_insurance\", \"phone_number\". \n",
    "\n",
    "    Allowed types of insurance are: \"Auto\", \"Home\", \"Condo\", \"Tenant\", \"Farm\", \"Commercial\", \"Life\".\n",
    "    \n",
    "    Make sure that the phone number either has 10 digits or (11 digits and starts with +1). \n",
    "    Don't save +1 for the phone number, we need only next 10 digits. Store as int.\n",
    "    \n",
    "    Age should be int value with year granularity, don't accept a string.    \n",
    "    \n",
    "    Please ask one question at a time.\n",
    "    \"\"\""
   ]
  },
  {
   "cell_type": "code",
   "execution_count": 3,
   "id": "680075a7",
   "metadata": {},
   "outputs": [],
   "source": [
    "FUNCTIONS = [\n",
    "    {\n",
    "        \"name\": \"save_users_questionire\",\n",
    "        \"description\": \"If user responded all questiones, store fully filled questionire to the database\",\n",
    "        \"parameters\": {\n",
    "            \"type\": \"object\",\n",
    "            \"properties\": {\n",
    "                \"user_answers\": {\n",
    "                    \"type\": \"object\",\n",
    "                    \"description\": \"Keys of the dict are questions to the user and values are user's responses to the coresponding questions\",\n",
    "                },\n",
    "            },\n",
    "            \"required\": [\"user_answers\"],\n",
    "        },\n",
    "    },\n",
    "    {\n",
    "        \"name\": \"ask_follow_up_question\",\n",
    "        \"description\": \"If the user didn't answer all the questions, generates an additional question to ask user.\",\n",
    "        \"parameters\": {\n",
    "            \"type\": \"object\",\n",
    "            \"properties\": {\n",
    "                \"next_question\": {\n",
    "                    \"type\": \"string\",\n",
    "                    \"description\": \"Next question which we will ask user to clarify their response\",\n",
    "                },\n",
    "            },\n",
    "            \"required\": [\"next_question\"],\n",
    "        },\n",
    "    },\n",
    "]"
   ]
  },
  {
   "cell_type": "code",
   "execution_count": 4,
   "id": "5755dd99",
   "metadata": {},
   "outputs": [],
   "source": [
    "def generate_response(chat: object, functions: list = FUNCTIONS) -> (bool, str):\n",
    "    \n",
    "    chat_response = chat_completion_request(\n",
    "        chat.conversation_history,\n",
    "        functions=functions\n",
    "    )\n",
    "    \n",
    "    if chat_response is not None:\n",
    "        response_content = chat_response.json()['choices'][0]['message']\n",
    "\n",
    "        message = chat_response.json()['choices'][0]['message']['content']\n",
    "\n",
    "#         print(\"message:\") \n",
    "#         print(message)\n",
    "\n",
    "        if message is not None:\n",
    "            \n",
    "            chat_finished = False\n",
    "            return (chat_finished, message)\n",
    "\n",
    "\n",
    "        if 'function_call' in response_content:\n",
    "            if response_content['function_call']['name'] == 'save_users_questionire':\n",
    "\n",
    "                questionire = json.loads(response_content['function_call']['arguments'])\n",
    "#                 print(\"Result questionire:\")\n",
    "#                 print(questionire)\n",
    "\n",
    "                chat_finished = True\n",
    "                return (chat_finished, questionire)\n",
    "\n",
    "            elif response_content['function_call']['name'] == 'ask_follow_up_question':\n",
    "                next_question = json.loads(response_content['function_call']['arguments'])['next_question']\n",
    "#                 print(\"Next question:\")\n",
    "#                 print(next_question)\n",
    "\n",
    "                chat_finished = False\n",
    "                return (chat_finished, next_question)           \n",
    "\n",
    "    else:\n",
    "        print(\"ChatCompletion request failed. Retrying...\")"
   ]
  },
  {
   "cell_type": "markdown",
   "id": "50ed22df",
   "metadata": {},
   "source": [
    "### Chat"
   ]
  },
  {
   "cell_type": "code",
   "execution_count": 5,
   "id": "9dc088e6",
   "metadata": {},
   "outputs": [],
   "source": [
    "chat = Chat()\n",
    "chat.add_prompt(\"system\", SYSTEM_SETUP_PROMPT)\n",
    "\n",
    "user_first_message = \"Hi, I'm Bob Smith. I'm looking for a car insurance. Do you offer it?\"\n",
    "chat.add_user_prompt(user_first_message)"
   ]
  },
  {
   "cell_type": "code",
   "execution_count": 6,
   "id": "21ae5b8b",
   "metadata": {},
   "outputs": [
    {
     "data": {
      "text/plain": [
       "(False,\n",
       " 'Yes, we do offer car insurance. To complete your application, I would need some additional information. Could you please provide your phone number?')"
      ]
     },
     "execution_count": 6,
     "metadata": {},
     "output_type": "execute_result"
    }
   ],
   "source": [
    "chat_finished, message = generate_response(chat)\n",
    "\n",
    "chat.add_assistant_prompt(message)\n",
    "\n",
    "chat_finished, message"
   ]
  },
  {
   "cell_type": "code",
   "execution_count": 7,
   "id": "0cd1e12c",
   "metadata": {},
   "outputs": [],
   "source": [
    "user_message = \"+19876543210\"\n",
    "chat.add_prompt(\"user\", user_message)"
   ]
  },
  {
   "cell_type": "code",
   "execution_count": 8,
   "id": "f71bf4fe",
   "metadata": {},
   "outputs": [
    {
     "data": {
      "text/plain": [
       "(False, 'What is your age?')"
      ]
     },
     "execution_count": 8,
     "metadata": {},
     "output_type": "execute_result"
    }
   ],
   "source": [
    "chat_finished, message = generate_response(chat)\n",
    "\n",
    "chat.add_assistant_prompt(message)\n",
    "\n",
    "chat_finished, message"
   ]
  },
  {
   "cell_type": "code",
   "execution_count": 9,
   "id": "dccee8aa",
   "metadata": {},
   "outputs": [
    {
     "data": {
      "text/plain": [
       "(True,\n",
       " {'first_name': 'Bob',\n",
       "  'last_name': 'Smith',\n",
       "  'age': 24,\n",
       "  'type_of_insurance': 'Auto',\n",
       "  'phone_number': 9876543210})"
      ]
     },
     "execution_count": 9,
     "metadata": {},
     "output_type": "execute_result"
    }
   ],
   "source": [
    "user_message = \"24\"\n",
    "chat.add_prompt(\"user\", user_message)\n",
    "\n",
    "chat_finished, message = generate_response(chat)\n",
    "\n",
    "chat_finished, message"
   ]
  },
  {
   "cell_type": "code",
   "execution_count": null,
   "id": "7d23d2f7",
   "metadata": {},
   "outputs": [],
   "source": []
  },
  {
   "cell_type": "code",
   "execution_count": 10,
   "id": "eee6ec4a",
   "metadata": {},
   "outputs": [
    {
     "data": {
      "text/plain": [
       "[{'role': 'system',\n",
       "  'content': '\\n    You are a polite and smart AI assistant that helps people to fill questionire to apply for an insurance.\\n    We need to fill next questions:\\n    1) What is your first name?\\n    2) What is your last name?\\n    3) What is the type of insurance you need?\\n    4) What is your phone number?\\n    5) What is your age?\\n\\n    We expect final response in json format with keys: \"first_name\", \"last_name\", \"age\", \"type_of_insurance\", \"phone_number\". \\n\\n    Allowed types of insurance are: \"Auto\", \"Home\", \"Condo\", \"Tenant\", \"Farm\", \"Commercial\", \"Life\".\\n    \\n    Make sure that the phone number either has 10 digits or (11 digits and starts with +1). \\n    Don\\'t save +1 for the phone number, we need only next 10 digits. Store as int.\\n    \\n    Age should be int value with year granularity, don\\'t accept a string.    \\n    \\n    Please ask one question at a time.\\n    '},\n",
       " {'role': 'user',\n",
       "  'content': \"Hi, I'm Bob Smith. I'm looking for a car insurance. Do you offer it?\"},\n",
       " {'role': 'assistant',\n",
       "  'content': 'Yes, we do offer car insurance. To complete your application, I would need some additional information. Could you please provide your phone number?'},\n",
       " {'role': 'user', 'content': '+19876543210'},\n",
       " {'role': 'assistant', 'content': 'What is your age?'},\n",
       " {'role': 'user', 'content': '24'}]"
      ]
     },
     "execution_count": 10,
     "metadata": {},
     "output_type": "execute_result"
    }
   ],
   "source": [
    "chat.conversation_history"
   ]
  },
  {
   "cell_type": "code",
   "execution_count": null,
   "id": "08bcfdbf",
   "metadata": {},
   "outputs": [],
   "source": []
  }
 ],
 "metadata": {
  "kernelspec": {
   "display_name": "Python 3 (ipykernel)",
   "language": "python",
   "name": "python3"
  },
  "language_info": {
   "codemirror_mode": {
    "name": "ipython",
    "version": 3
   },
   "file_extension": ".py",
   "mimetype": "text/x-python",
   "name": "python",
   "nbconvert_exporter": "python",
   "pygments_lexer": "ipython3",
   "version": "3.10.9"
  }
 },
 "nbformat": 4,
 "nbformat_minor": 5
}
