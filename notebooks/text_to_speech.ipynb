{
 "cells": [
  {
   "cell_type": "code",
   "execution_count": 1,
   "id": "c82edeaa",
   "metadata": {},
   "outputs": [],
   "source": [
    "from gtts import gTTS\n",
    "tts = gTTS('hello', lang='en', tld='ca')\n",
    "tts.save('hello.mp3')"
   ]
  },
  {
   "cell_type": "markdown",
   "id": "be69ad02",
   "metadata": {},
   "source": [
    "<audio width=\"320\" height=\"240\" \n",
    "       src=\"hello.mp3\"  \n",
    "       controls>\n",
    "</audio>"
   ]
  },
  {
   "cell_type": "code",
   "execution_count": 2,
   "id": "f24bdd09",
   "metadata": {},
   "outputs": [],
   "source": [
    "text = \"\"\"\n",
    "Hello, Jennifer! Yes, we do provide Home insurance.\n",
    "\n",
    "Now let's move forward with the questionnaire. May I have your last name, please?\n",
    "\"\"\""
   ]
  },
  {
   "cell_type": "code",
   "execution_count": 3,
   "id": "48c3e52e",
   "metadata": {},
   "outputs": [],
   "source": [
    "tts = gTTS(text, lang='en', tld='ca')\n",
    "tts.save('ai_text.mp3')"
   ]
  },
  {
   "cell_type": "markdown",
   "id": "b3f468ff",
   "metadata": {},
   "source": [
    "<audio width=\"320\" height=\"240\" \n",
    "       src=\"ai_text.mp3\"  \n",
    "       controls>\n",
    "</audio>"
   ]
  },
  {
   "cell_type": "code",
   "execution_count": 4,
   "id": "22312a23",
   "metadata": {},
   "outputs": [],
   "source": [
    "tts = gTTS(text, lang='en', tld='us')\n",
    "tts.save('ai_text_us.mp3')"
   ]
  },
  {
   "cell_type": "markdown",
   "id": "4708071a",
   "metadata": {},
   "source": [
    "<audio width=\"320\" height=\"240\" \n",
    "       src=\"ai_text_us.mp3\"  \n",
    "       controls>\n",
    "</audio>"
   ]
  },
  {
   "cell_type": "code",
   "execution_count": null,
   "id": "a5ad7390",
   "metadata": {},
   "outputs": [],
   "source": []
  }
 ],
 "metadata": {
  "kernelspec": {
   "display_name": "Python 3 (ipykernel)",
   "language": "python",
   "name": "python3"
  },
  "language_info": {
   "codemirror_mode": {
    "name": "ipython",
    "version": 3
   },
   "file_extension": ".py",
   "mimetype": "text/x-python",
   "name": "python",
   "nbconvert_exporter": "python",
   "pygments_lexer": "ipython3",
   "version": "3.11.4"
  }
 },
 "nbformat": 4,
 "nbformat_minor": 5
}
