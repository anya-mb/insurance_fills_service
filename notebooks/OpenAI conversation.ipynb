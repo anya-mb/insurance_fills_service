{
 "cells": [
  {
   "cell_type": "code",
   "execution_count": 1,
   "id": "6089f92e",
   "metadata": {},
   "outputs": [],
   "source": [
    "import os\n",
    "import json\n",
    "import openai\n",
    "import requests\n",
    "from dotenv import load_dotenv\n",
    "from tenacity import retry, wait_random_exponential, stop_after_attempt\n",
    "\n",
    "\n",
    "GPT_MODEL = \"gpt-4-0613\"\n",
    "\n",
    "load_dotenv(\".env\")\n",
    "openai.api_key = os.environ['OPENAI_API_KEY']"
   ]
  },
  {
   "cell_type": "code",
   "execution_count": 2,
   "id": "623bbb2b",
   "metadata": {},
   "outputs": [],
   "source": [
    "@retry(wait=wait_random_exponential(min=1, max=40), stop=stop_after_attempt(3))\n",
    "def chat_completion_request(messages, functions=None, model=GPT_MODEL):\n",
    "    headers = {\n",
    "        \"Content-Type\": \"application/json\",\n",
    "        \"Authorization\": \"Bearer \" + openai.api_key,\n",
    "    }\n",
    "    json_data = {\"model\": model, \"messages\": messages}\n",
    "    if functions is not None:\n",
    "        json_data.update({\"functions\": functions})\n",
    "    try:\n",
    "        response = requests.post(\n",
    "            \"https://api.openai.com/v1/chat/completions\",\n",
    "            headers=headers,\n",
    "            json=json_data,\n",
    "        )\n",
    "        return response\n",
    "    except Exception as e:\n",
    "        print(\"Unable to generate ChatCompletion response\")\n",
    "        print(f\"Exception: {e}\")\n",
    "        return e"
   ]
  },
  {
   "cell_type": "code",
   "execution_count": 3,
   "id": "8d4cca94",
   "metadata": {},
   "outputs": [],
   "source": [
    "class Chat:\n",
    "    def __init__(self):\n",
    "        self.conversation_history = []\n",
    "\n",
    "    def add_prompt(self, role, content):\n",
    "        message = {\"role\": role, \"content\": content}\n",
    "        self.conversation_history.append(message)\n",
    "\n",
    "    def display_conversation(self):\n",
    "        for message in self.conversation_history:\n",
    "            print(\n",
    "                f\"{message['role']}: {message['content']}\\n\\n\",\n",
    "                message[\"role\"],\n",
    "            )\n"
   ]
  },
  {
   "cell_type": "code",
   "execution_count": 4,
   "id": "b15b0b88",
   "metadata": {},
   "outputs": [],
   "source": [
    "functions = [\n",
    "    {\n",
    "        \"name\": \"save_users_questionire\",\n",
    "        \"description\": \"If user responded all questiones, store fully filled questionire to the database\",\n",
    "        \"parameters\": {\n",
    "            \"type\": \"object\",\n",
    "            \"properties\": {\n",
    "                \"user_answers\": {\n",
    "                    \"type\": \"object\",\n",
    "                    \"description\": \"Keys of the dict are questions to the user and values are user's responses to the coresponding questions\",\n",
    "                },\n",
    "            },\n",
    "            \"required\": [\"user_answers\"],\n",
    "        },\n",
    "    },\n",
    "    {\n",
    "        \"name\": \"ask_follow_up_question\",\n",
    "        \"description\": \"If the user didn't answer all the questions, generates an additional question to ask user.\",\n",
    "        \"parameters\": {\n",
    "            \"type\": \"object\",\n",
    "            \"properties\": {\n",
    "                \"next_question\": {\n",
    "                    \"type\": \"string\",\n",
    "                    \"description\": \"Next question which we will ask user to clarify their response\",\n",
    "                },\n",
    "            },\n",
    "            \"required\": [\"next_question\"],\n",
    "        },\n",
    "    },\n",
    "]"
   ]
  },
  {
   "cell_type": "code",
   "execution_count": 5,
   "id": "ab410206",
   "metadata": {},
   "outputs": [],
   "source": [
    "chat = Chat()"
   ]
  },
  {
   "cell_type": "code",
   "execution_count": 6,
   "id": "ea554c71",
   "metadata": {},
   "outputs": [],
   "source": [
    "chat.add_prompt(\"system\", \n",
    "    \"\"\"\n",
    "    You are a polite and smart AI assistant that helps people to fill questionire to apply for an insurance.\n",
    "    We need to fill next questions:\n",
    "    1) What is your first name?\n",
    "    2) What is your last name?\n",
    "    3) What is the type of insurance you need?\n",
    "    4) What is your phone number?\n",
    "    5) What is your age?\n",
    "\n",
    "    We expect final response in json format with keys: \"first_name\", \"last_name\", \"age\", \"type_of_insurance\", \"phone_number\". \n",
    "\n",
    "    Allowed types of insurance are: \"Auto\", \"Home\", \"Condo\", \"Tenant\", \"Farm\", \"Commercial\", \"Life\".\n",
    "    \n",
    "    Make sure that the phone number either has 10 digits or (11 digits and starts with +1). \n",
    "    Don't save +1 for the phone number, we need only next 10 digits. Store as int.\n",
    "    \n",
    "    Age should be int value with year granularity, don't accept a string.    \n",
    "    \n",
    "    Please ask one question at a time.\n",
    "    \"\"\")"
   ]
  },
  {
   "cell_type": "code",
   "execution_count": 7,
   "id": "6ac56d01",
   "metadata": {},
   "outputs": [],
   "source": [
    "chat.add_prompt(\"user\", \n",
    "   \"\"\"\n",
    "   Hi, I'm Bob Smith. I'm looking for a car insurance. Do you offer it?\n",
    "\n",
    "   \"\"\")"
   ]
  },
  {
   "cell_type": "code",
   "execution_count": 8,
   "id": "51b7d61b",
   "metadata": {},
   "outputs": [],
   "source": [
    "chat_response = chat_completion_request(\n",
    "        chat.conversation_history,\n",
    "        functions=functions\n",
    "    )\n"
   ]
  },
  {
   "cell_type": "code",
   "execution_count": 9,
   "id": "57683675",
   "metadata": {},
   "outputs": [
    {
     "data": {
      "text/plain": [
       "<Response [200]>"
      ]
     },
     "execution_count": 9,
     "metadata": {},
     "output_type": "execute_result"
    }
   ],
   "source": [
    "chat_response"
   ]
  },
  {
   "cell_type": "code",
   "execution_count": 10,
   "id": "afa7a0ae",
   "metadata": {},
   "outputs": [
    {
     "data": {
      "text/plain": [
       "{'_content': b'{\\n  \"id\": \"chatcmpl-7dUqA0SHBxPWXa7m1kZeMvSYwTiJO\",\\n  \"object\": \"chat.completion\",\\n  \"created\": 1689647698,\\n  \"model\": \"gpt-4-0613\",\\n  \"choices\": [\\n    {\\n      \"index\": 0,\\n      \"message\": {\\n        \"role\": \"assistant\",\\n        \"content\": \"Yes, we do offer car insurance. Can I have your phone number, please?\"\\n      },\\n      \"finish_reason\": \"stop\"\\n    }\\n  ],\\n  \"usage\": {\\n    \"prompt_tokens\": 344,\\n    \"completion_tokens\": 18,\\n    \"total_tokens\": 362\\n  }\\n}\\n',\n",
       " '_content_consumed': True,\n",
       " '_next': None,\n",
       " 'status_code': 200,\n",
       " 'headers': {'Date': 'Tue, 18 Jul 2023 02:35:00 GMT', 'Content-Type': 'application/json', 'Transfer-Encoding': 'chunked', 'Connection': 'keep-alive', 'access-control-allow-origin': '*', 'Cache-Control': 'no-cache, must-revalidate', 'openai-model': 'gpt-4-0613', 'openai-organization': 'user-zqtgiixglanxzg0gvijsewh3', 'openai-processing-ms': '2189', 'openai-version': '2020-10-01', 'strict-transport-security': 'max-age=15724800; includeSubDomains', 'x-ratelimit-limit-requests': '200', 'x-ratelimit-limit-tokens': '40000', 'x-ratelimit-remaining-requests': '199', 'x-ratelimit-remaining-tokens': '39746', 'x-ratelimit-reset-requests': '300ms', 'x-ratelimit-reset-tokens': '381ms', 'x-request-id': 'dacf9132094cfcd190afe36f1f1918ce', 'CF-Cache-Status': 'DYNAMIC', 'Server': 'cloudflare', 'CF-RAY': '7e8754221f2d8432-YVR', 'Content-Encoding': 'gzip', 'alt-svc': 'h3=\":443\"; ma=86400'},\n",
       " 'raw': <urllib3.response.HTTPResponse at 0x7fedd069aaf0>,\n",
       " 'url': 'https://api.openai.com/v1/chat/completions',\n",
       " 'encoding': 'utf-8',\n",
       " 'history': [],\n",
       " 'reason': 'OK',\n",
       " 'cookies': <RequestsCookieJar[]>,\n",
       " 'elapsed': datetime.timedelta(seconds=2, microseconds=609557),\n",
       " 'request': <PreparedRequest [POST]>,\n",
       " 'connection': <requests.adapters.HTTPAdapter at 0x7fedd069a310>}"
      ]
     },
     "execution_count": 10,
     "metadata": {},
     "output_type": "execute_result"
    }
   ],
   "source": [
    "chat_response.__dict__"
   ]
  },
  {
   "cell_type": "code",
   "execution_count": 18,
   "id": "b9e15667",
   "metadata": {},
   "outputs": [
    {
     "data": {
      "text/plain": [
       "{'role': 'assistant',\n",
       " 'content': 'Yes, we do offer car insurance. Can I have your phone number, please?'}"
      ]
     },
     "execution_count": 18,
     "metadata": {},
     "output_type": "execute_result"
    }
   ],
   "source": [
    "message = chat_response.json()['choices'][0]['message']\n",
    "message"
   ]
  },
  {
   "cell_type": "code",
   "execution_count": 19,
   "id": "62f55e90",
   "metadata": {},
   "outputs": [],
   "source": [
    "chat.add_prompt(message['role'], message['content'])"
   ]
  },
  {
   "cell_type": "code",
   "execution_count": 21,
   "id": "0d0153bc",
   "metadata": {},
   "outputs": [],
   "source": [
    "chat.add_prompt(\"user\", \n",
    "   \"\"\"\n",
    "   Yes, it's +19876543210.\n",
    "\n",
    "   \"\"\")"
   ]
  },
  {
   "cell_type": "code",
   "execution_count": 22,
   "id": "0de1b3dc",
   "metadata": {},
   "outputs": [
    {
     "data": {
      "text/plain": [
       "{'_content': b'{\\n  \"id\": \"chatcmpl-7dUzfegeY45lEk06wwFpE3v1hr4Az\",\\n  \"object\": \"chat.completion\",\\n  \"created\": 1689648287,\\n  \"model\": \"gpt-4-0613\",\\n  \"choices\": [\\n    {\\n      \"index\": 0,\\n      \"message\": {\\n        \"role\": \"assistant\",\\n        \"content\": \"Great, thank you for that. Could you please tell me your age?\"\\n      },\\n      \"finish_reason\": \"stop\"\\n    }\\n  ],\\n  \"usage\": {\\n    \"prompt_tokens\": 384,\\n    \"completion_tokens\": 16,\\n    \"total_tokens\": 400\\n  }\\n}\\n',\n",
       " '_content_consumed': True,\n",
       " '_next': None,\n",
       " 'status_code': 200,\n",
       " 'headers': {'Date': 'Tue, 18 Jul 2023 02:44:50 GMT', 'Content-Type': 'application/json', 'Transfer-Encoding': 'chunked', 'Connection': 'keep-alive', 'access-control-allow-origin': '*', 'Cache-Control': 'no-cache, must-revalidate', 'openai-model': 'gpt-4-0613', 'openai-organization': 'user-zqtgiixglanxzg0gvijsewh3', 'openai-processing-ms': '2652', 'openai-version': '2020-10-01', 'strict-transport-security': 'max-age=15724800; includeSubDomains', 'x-ratelimit-limit-requests': '200', 'x-ratelimit-limit-tokens': '40000', 'x-ratelimit-remaining-requests': '199', 'x-ratelimit-remaining-tokens': '39719', 'x-ratelimit-reset-requests': '300ms', 'x-ratelimit-reset-tokens': '421ms', 'x-request-id': '10039364a94ed529cfe59cf1263a7d39', 'CF-Cache-Status': 'DYNAMIC', 'Server': 'cloudflare', 'CF-RAY': '7e8762762dfa2dc1-YVR', 'Content-Encoding': 'gzip', 'alt-svc': 'h3=\":443\"; ma=86400'},\n",
       " 'raw': <urllib3.response.HTTPResponse at 0x7fedc0e8da00>,\n",
       " 'url': 'https://api.openai.com/v1/chat/completions',\n",
       " 'encoding': 'utf-8',\n",
       " 'history': [],\n",
       " 'reason': 'OK',\n",
       " 'cookies': <RequestsCookieJar[]>,\n",
       " 'elapsed': datetime.timedelta(seconds=5, microseconds=282775),\n",
       " 'request': <PreparedRequest [POST]>,\n",
       " 'connection': <requests.adapters.HTTPAdapter at 0x7fedc0beb130>}"
      ]
     },
     "execution_count": 22,
     "metadata": {},
     "output_type": "execute_result"
    }
   ],
   "source": [
    "chat_response = chat_completion_request(\n",
    "        chat.conversation_history,\n",
    "        functions=functions\n",
    "    )\n",
    "chat_response.__dict__"
   ]
  },
  {
   "cell_type": "code",
   "execution_count": 23,
   "id": "77105fa1",
   "metadata": {},
   "outputs": [
    {
     "data": {
      "text/plain": [
       "{'role': 'assistant',\n",
       " 'content': 'Great, thank you for that. Could you please tell me your age?'}"
      ]
     },
     "execution_count": 23,
     "metadata": {},
     "output_type": "execute_result"
    }
   ],
   "source": [
    "message = chat_response.json()['choices'][0]['message']\n",
    "message"
   ]
  },
  {
   "cell_type": "code",
   "execution_count": 24,
   "id": "63352c7b",
   "metadata": {},
   "outputs": [],
   "source": [
    "chat.add_prompt(message['role'], message['content'])"
   ]
  },
  {
   "cell_type": "code",
   "execution_count": 25,
   "id": "8f14ae2b",
   "metadata": {},
   "outputs": [],
   "source": [
    "chat.add_prompt(\"user\", \n",
    "   \"\"\"\n",
    "   I'm under 30.\n",
    "\n",
    "   \"\"\")"
   ]
  },
  {
   "cell_type": "code",
   "execution_count": 26,
   "id": "f0adcf62",
   "metadata": {},
   "outputs": [
    {
     "data": {
      "text/plain": [
       "{'_content': b'{\\n  \"id\": \"chatcmpl-7dV0hTGaUTVhKTjpfSRFwFNc0HN6y\",\\n  \"object\": \"chat.completion\",\\n  \"created\": 1689648351,\\n  \"model\": \"gpt-4-0613\",\\n  \"choices\": [\\n    {\\n      \"index\": 0,\\n      \"message\": {\\n        \"role\": \"assistant\",\\n        \"content\": null,\\n        \"function_call\": {\\n          \"name\": \"ask_follow_up_question\",\\n          \"arguments\": \"\\\\n{\\\\n  \\\\\"next_question\\\\\": \\\\\"Could you please specify your exact age?\\\\\"\\\\n}\"\\n        }\\n      },\\n      \"finish_reason\": \"function_call\"\\n    }\\n  ],\\n  \"usage\": {\\n    \"prompt_tokens\": 416,\\n    \"completion_tokens\": 25,\\n    \"total_tokens\": 441\\n  }\\n}\\n',\n",
       " '_content_consumed': True,\n",
       " '_next': None,\n",
       " 'status_code': 200,\n",
       " 'headers': {'Date': 'Tue, 18 Jul 2023 02:45:54 GMT', 'Content-Type': 'application/json', 'Transfer-Encoding': 'chunked', 'Connection': 'keep-alive', 'access-control-allow-origin': '*', 'Cache-Control': 'no-cache, must-revalidate', 'openai-model': 'gpt-4-0613', 'openai-organization': 'user-zqtgiixglanxzg0gvijsewh3', 'openai-processing-ms': '3342', 'openai-version': '2020-10-01', 'strict-transport-security': 'max-age=15724800; includeSubDomains', 'x-ratelimit-limit-requests': '200', 'x-ratelimit-limit-tokens': '40000', 'x-ratelimit-remaining-requests': '199', 'x-ratelimit-remaining-tokens': '39696', 'x-ratelimit-reset-requests': '300ms', 'x-ratelimit-reset-tokens': '456ms', 'x-request-id': '1b1ad5323d5e97c97c91e2d41063b9f7', 'CF-Cache-Status': 'DYNAMIC', 'Server': 'cloudflare', 'CF-RAY': '7e87641319bc841a-YVR', 'Content-Encoding': 'gzip', 'alt-svc': 'h3=\":443\"; ma=86400'},\n",
       " 'raw': <urllib3.response.HTTPResponse at 0x7fed9159fdf0>,\n",
       " 'url': 'https://api.openai.com/v1/chat/completions',\n",
       " 'encoding': 'utf-8',\n",
       " 'history': [],\n",
       " 'reason': 'OK',\n",
       " 'cookies': <RequestsCookieJar[]>,\n",
       " 'elapsed': datetime.timedelta(seconds=3, microseconds=852258),\n",
       " 'request': <PreparedRequest [POST]>,\n",
       " 'connection': <requests.adapters.HTTPAdapter at 0x7fedc0c229a0>}"
      ]
     },
     "execution_count": 26,
     "metadata": {},
     "output_type": "execute_result"
    }
   ],
   "source": [
    "chat_response = chat_completion_request(\n",
    "        chat.conversation_history,\n",
    "        functions=functions\n",
    "    )\n",
    "chat_response.__dict__"
   ]
  },
  {
   "cell_type": "code",
   "execution_count": 29,
   "id": "cc8f6dc6",
   "metadata": {},
   "outputs": [
    {
     "data": {
      "text/plain": [
       "{'role': 'assistant',\n",
       " 'content': None,\n",
       " 'function_call': {'name': 'ask_follow_up_question',\n",
       "  'arguments': '\\n{\\n  \"next_question\": \"Could you please specify your exact age?\"\\n}'}}"
      ]
     },
     "execution_count": 29,
     "metadata": {},
     "output_type": "execute_result"
    }
   ],
   "source": [
    "message = chat_response.json()['choices'][0][\"message\"]\n",
    "message"
   ]
  },
  {
   "cell_type": "code",
   "execution_count": 35,
   "id": "1d242a5a",
   "metadata": {},
   "outputs": [],
   "source": [
    "import json"
   ]
  },
  {
   "cell_type": "code",
   "execution_count": 37,
   "id": "95abbdf3",
   "metadata": {},
   "outputs": [
    {
     "data": {
      "text/plain": [
       "'\\n{\\n  \"next_question\": \"Could you please specify your exact age?\"\\n}'"
      ]
     },
     "execution_count": 37,
     "metadata": {},
     "output_type": "execute_result"
    }
   ],
   "source": [
    "chat_response.json()['choices'][0][\"message\"]['function_call']['arguments']"
   ]
  },
  {
   "cell_type": "code",
   "execution_count": 39,
   "id": "ac647d3a",
   "metadata": {},
   "outputs": [
    {
     "data": {
      "text/plain": [
       "{'role': 'assistant', 'content': 'Could you please specify your exact age?'}"
      ]
     },
     "execution_count": 39,
     "metadata": {},
     "output_type": "execute_result"
    }
   ],
   "source": [
    "next_question = json.loads(\n",
    "    chat_response.json()['choices'][0][\"message\"]['function_call']['arguments']\n",
    "    )['next_question']\n",
    "\n",
    "message = {'role': 'assistant',\n",
    "           'content': next_question}\n",
    "\n",
    "message"
   ]
  },
  {
   "cell_type": "code",
   "execution_count": 40,
   "id": "0f2b5923",
   "metadata": {},
   "outputs": [],
   "source": [
    "chat.add_prompt(message['role'], message['content'])"
   ]
  },
  {
   "cell_type": "code",
   "execution_count": 41,
   "id": "e83e7945",
   "metadata": {},
   "outputs": [],
   "source": [
    "chat.add_prompt(\"user\", \n",
    "   \"\"\"\n",
    "   I'm 25.\n",
    "\n",
    "   \"\"\")"
   ]
  },
  {
   "cell_type": "code",
   "execution_count": 42,
   "id": "860b9f86",
   "metadata": {},
   "outputs": [
    {
     "data": {
      "text/plain": [
       "{'_content': b'{\\n  \"id\": \"chatcmpl-7dV8lXuXLp4ekQChtxK8QsZITCAID\",\\n  \"object\": \"chat.completion\",\\n  \"created\": 1689648851,\\n  \"model\": \"gpt-4-0613\",\\n  \"choices\": [\\n    {\\n      \"index\": 0,\\n      \"message\": {\\n        \"role\": \"assistant\",\\n        \"content\": null,\\n        \"function_call\": {\\n          \"name\": \"save_users_questionire\",\\n          \"arguments\": \"\\\\n{\\\\n\\\\\"first_name\\\\\": \\\\\"Bob\\\\\",\\\\n\\\\\"last_name\\\\\": \\\\\"Smith\\\\\",\\\\n\\\\\"age\\\\\": 25,\\\\n\\\\\"type_of_insurance\\\\\": \\\\\"Auto\\\\\",\\\\n\\\\\"phone_number\\\\\": 9876543210\\\\n}\"\\n        }\\n      },\\n      \"finish_reason\": \"function_call\"\\n    }\\n  ],\\n  \"usage\": {\\n    \"prompt_tokens\": 440,\\n    \"completion_tokens\": 49,\\n    \"total_tokens\": 489\\n  }\\n}\\n',\n",
       " '_content_consumed': True,\n",
       " '_next': None,\n",
       " 'status_code': 200,\n",
       " 'headers': {'Date': 'Tue, 18 Jul 2023 02:54:17 GMT', 'Content-Type': 'application/json', 'Transfer-Encoding': 'chunked', 'Connection': 'keep-alive', 'access-control-allow-origin': '*', 'Cache-Control': 'no-cache, must-revalidate', 'openai-model': 'gpt-4-0613', 'openai-organization': 'user-zqtgiixglanxzg0gvijsewh3', 'openai-processing-ms': '5684', 'openai-version': '2020-10-01', 'strict-transport-security': 'max-age=15724800; includeSubDomains', 'x-ratelimit-limit-requests': '200', 'x-ratelimit-limit-tokens': '40000', 'x-ratelimit-remaining-requests': '199', 'x-ratelimit-remaining-tokens': '39680', 'x-ratelimit-reset-requests': '300ms', 'x-ratelimit-reset-tokens': '480ms', 'x-request-id': '2f5d15c39a6270070ed481c8661e31e4', 'CF-Cache-Status': 'DYNAMIC', 'Server': 'cloudflare', 'CF-RAY': '7e8770496c22f4a2-YVR', 'Content-Encoding': 'gzip', 'alt-svc': 'h3=\":443\"; ma=86400'},\n",
       " 'raw': <urllib3.response.HTTPResponse at 0x7fedc0ce9dc0>,\n",
       " 'url': 'https://api.openai.com/v1/chat/completions',\n",
       " 'encoding': 'utf-8',\n",
       " 'history': [],\n",
       " 'reason': 'OK',\n",
       " 'cookies': <RequestsCookieJar[]>,\n",
       " 'elapsed': datetime.timedelta(seconds=6, microseconds=148151),\n",
       " 'request': <PreparedRequest [POST]>,\n",
       " 'connection': <requests.adapters.HTTPAdapter at 0x7fedc0ce9d60>}"
      ]
     },
     "execution_count": 42,
     "metadata": {},
     "output_type": "execute_result"
    }
   ],
   "source": [
    "chat_response = chat_completion_request(\n",
    "        chat.conversation_history,\n",
    "        functions=functions\n",
    "    )\n",
    "chat_response.__dict__"
   ]
  },
  {
   "cell_type": "code",
   "execution_count": 43,
   "id": "29e75d63",
   "metadata": {},
   "outputs": [
    {
     "data": {
      "text/plain": [
       "'\\n{\\n\"first_name\": \"Bob\",\\n\"last_name\": \"Smith\",\\n\"age\": 25,\\n\"type_of_insurance\": \"Auto\",\\n\"phone_number\": 9876543210\\n}'"
      ]
     },
     "execution_count": 43,
     "metadata": {},
     "output_type": "execute_result"
    }
   ],
   "source": [
    "chat_response.json()['choices'][0][\"message\"]['function_call']['arguments']"
   ]
  },
  {
   "cell_type": "code",
   "execution_count": 44,
   "id": "4cb21d23",
   "metadata": {},
   "outputs": [
    {
     "data": {
      "text/plain": [
       "{'first_name': 'Bob',\n",
       " 'last_name': 'Smith',\n",
       " 'age': 25,\n",
       " 'type_of_insurance': 'Auto',\n",
       " 'phone_number': 9876543210}"
      ]
     },
     "execution_count": 44,
     "metadata": {},
     "output_type": "execute_result"
    }
   ],
   "source": [
    "next_question = json.loads(\n",
    "    chat_response.json()['choices'][0][\"message\"]['function_call']['arguments']\n",
    "    )\n",
    "\n",
    "next_question"
   ]
  },
  {
   "cell_type": "code",
   "execution_count": null,
   "id": "6d146aca",
   "metadata": {},
   "outputs": [],
   "source": []
  },
  {
   "cell_type": "code",
   "execution_count": null,
   "id": "5ba8d374",
   "metadata": {},
   "outputs": [],
   "source": []
  },
  {
   "cell_type": "code",
   "execution_count": 46,
   "id": "a4796985",
   "metadata": {},
   "outputs": [],
   "source": [
    "SYSTEM_SETUP_PROMPT = \\\n",
    "    \"\"\"\n",
    "    You are a polite and smart AI assistant that helps people to fill questionire to apply for an insurance.\n",
    "    We need to fill next questions:\n",
    "    1) What is your first name?\n",
    "    2) What is your last name?\n",
    "    3) What is the type of insurance you need?\n",
    "    4) What is your phone number?\n",
    "    5) What is your age?\n",
    "\n",
    "    We expect final response in json format with keys: \"first_name\", \"last_name\", \"age\", \"type_of_insurance\", \"phone_number\". \n",
    "\n",
    "    Allowed types of insurance are: \"Auto\", \"Home\", \"Condo\", \"Tenant\", \"Farm\", \"Commercial\", \"Life\".\n",
    "    \n",
    "    Make sure that the phone number either has 10 digits or (11 digits and starts with +1). \n",
    "    Don't save +1 for the phone number, we need only next 10 digits. Store as int.\n",
    "    \n",
    "    Age should be int value with year granularity, don't accept a string.    \n",
    "    \n",
    "    Please ask one question at a time.\n",
    "    \"\"\""
   ]
  },
  {
   "cell_type": "code",
   "execution_count": 47,
   "id": "680075a7",
   "metadata": {},
   "outputs": [],
   "source": [
    "FUNCTIONS = [\n",
    "    {\n",
    "        \"name\": \"save_users_questionire\",\n",
    "        \"description\": \"If user responded all questiones, store fully filled questionire to the database\",\n",
    "        \"parameters\": {\n",
    "            \"type\": \"object\",\n",
    "            \"properties\": {\n",
    "                \"user_answers\": {\n",
    "                    \"type\": \"object\",\n",
    "                    \"description\": \"Keys of the dict are questions to the user and values are user's responses to the coresponding questions\",\n",
    "                },\n",
    "            },\n",
    "            \"required\": [\"user_answers\"],\n",
    "        },\n",
    "    },\n",
    "    {\n",
    "        \"name\": \"ask_follow_up_question\",\n",
    "        \"description\": \"If the user didn't answer all the questions, generates an additional question to ask user.\",\n",
    "        \"parameters\": {\n",
    "            \"type\": \"object\",\n",
    "            \"properties\": {\n",
    "                \"next_question\": {\n",
    "                    \"type\": \"string\",\n",
    "                    \"description\": \"Next question which we will ask user to clarify their response\",\n",
    "                },\n",
    "            },\n",
    "            \"required\": [\"next_question\"],\n",
    "        },\n",
    "    },\n",
    "]"
   ]
  },
  {
   "cell_type": "code",
   "execution_count": null,
   "id": "5755dd99",
   "metadata": {},
   "outputs": [],
   "source": [
    "def generate_response(chat: Chat, user_message: str, functions: list = FUNCTIONS\n",
    "                    ) -> bool, str:\n",
    "    \n",
    "    chat_response = chat_completion_request(\n",
    "        chat.conversation_history,\n",
    "        functions=functions\n",
    "    )\n",
    "    \n",
    "    response_content"
   ]
  },
  {
   "cell_type": "code",
   "execution_count": null,
   "id": "66a6a865",
   "metadata": {},
   "outputs": [],
   "source": [
    "chat = Chat()\n",
    "\n",
    "chat.add_prompt(\"system\", SYSTEM_SETUP_PROMPT)\n",
    "\n",
    "chat_finished = True\n",
    "\n",
    "for i in range(2):\n",
    "    response_content = chat_completion_request(\n",
    "        chat.conversation_history,\n",
    "        functions=functions\n",
    "    )\n",
    "\n",
    "    if chat_response is not None:\n",
    "        response_content = chat_response.json()['choices'][0]['message']\n",
    "\n",
    "        print(response_content)\n",
    "        \n",
    "        message = chat_response.json()['choices'][0]['message']\n",
    "        \n",
    "        print(\"message:\", message)\n",
    "        \n",
    "        if message is not None:\n",
    "            chat_finished = False\n",
    "            \n",
    "            return chat_finished, message\n",
    "        \n",
    "\n",
    "        if 'function_call' in response_content:\n",
    "            if response_content['function_call']['name'] == 'save_users_questionire':\n",
    "\n",
    "                print(response_content)\n",
    "                questionire = json.loads(response_content['function_call']['arguments'])\n",
    "                print(\"Result questionire:\")\n",
    "                print(questionire)\n",
    "                \n",
    "                chat_finished = True\n",
    "                return chat_finished, questionire\n",
    "            \n",
    "            elif response_content['function_call']['name'] == 'ask_follow_up_question':\n",
    "                print(response_content)\n",
    "                next_question = json.loads(response_content['function_call']['arguments'])['next_question']\n",
    "                print(\"Next question:\")\n",
    "                print(next_question)\n",
    "                \n",
    "                chat_finished = False\n",
    "                return chat_finished, next_question           \n",
    "        \n",
    "    else:\n",
    "        print(\"ChatCompletion request failed. Retrying...\")"
   ]
  }
 ],
 "metadata": {
  "kernelspec": {
   "display_name": "Python 3 (ipykernel)",
   "language": "python",
   "name": "python3"
  },
  "language_info": {
   "codemirror_mode": {
    "name": "ipython",
    "version": 3
   },
   "file_extension": ".py",
   "mimetype": "text/x-python",
   "name": "python",
   "nbconvert_exporter": "python",
   "pygments_lexer": "ipython3",
   "version": "3.8.8"
  }
 },
 "nbformat": 4,
 "nbformat_minor": 5
}
